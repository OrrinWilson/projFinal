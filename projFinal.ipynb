{
 "cells": [
  {
   "cell_type": "markdown",
   "metadata": {},
   "source": [
    "To run:\n",
    "\n",
    "Download:\n",
    "    Fruits 360 dataset from kaggle\n",
    "    list1.txt\n",
    "    list2.txt\n",
    "    list3.txt\n",
    "    list4.txt\n",
    "    list5.txt\n",
    "    list6.txt\n",
    "    real1.txt\n",
    "    realBananaTest\n",
    "    \n",
    "Goals:\n",
    "    Find algorithms that are good at distinguishing between different \n",
    "    types of fruit based on their greyscale images. There are two \n",
    "    datasets. The first is from kaggle and the second is a hand made\n",
    "    one taken from random pictures on the internet.\n",
    "    \n",
    "Group: Nick Weinel, Danny Harcourt\n",
    "\n",
    "Findings: Algorithms SVM, Decision Tree, Grid Search, and GaussianNB all performed better than the Neural Network.\n",
    "\n",
    "When the algorithms were trained with the kaggle dataset and tested against the real world banana images, only the Gaussian performed well. All of the other algorithms had little to no success.\n"
   ]
  },
  {
   "cell_type": "code",
   "execution_count": 9,
   "metadata": {},
   "outputs": [],
   "source": [
    "import numpy as np\n",
    "import pandas as pd\n",
    "from scipy import misc, signal, ndimage\n",
    "import matplotlib.pyplot as plt"
   ]
  },
  {
   "cell_type": "code",
   "execution_count": 3,
   "metadata": {},
   "outputs": [],
   "source": [
    "# Make a 2D numpy array\n",
    "# Allocate enough space for each fruit\n",
    "nBanana = 490\n",
    "nAvocado = 427\n",
    "nPom = 492\n",
    "nLemon = 492\n",
    "nStrawberry = 492\n",
    "nOrange = 479\n",
    "n = nBanana + nAvocado + nPom + nLemon + nStrawberry + nOrange\n",
    "\n",
    "# first 10K columns: image pixel values, last column: target (which fruit)\n",
    "nCols = 10000 + 1\n",
    "\n",
    "# declare a 2darray to hold the images and their targets\n",
    "fruits = np.zeros((n, nCols))\n"
   ]
  },
  {
   "cell_type": "code",
   "execution_count": 98,
   "metadata": {},
   "outputs": [
    {
     "name": "stdout",
     "output_type": "stream",
     "text": [
      "(2872, 10001)\n"
     ]
    }
   ],
   "source": [
    "print(fruits.shape)"
   ]
  },
  {
   "cell_type": "code",
   "execution_count": 5,
   "metadata": {},
   "outputs": [],
   "source": [
    "# Convert Image to greyscale\n",
    "def rgb2gray(rgb):\n",
    "    return np.dot(rgb[...,:3], [0.299, 0.587, 0.114])"
   ]
  },
  {
   "cell_type": "code",
   "execution_count": 99,
   "metadata": {},
   "outputs": [],
   "source": [
    "# Add banana images to array\n",
    "bananaList = open('list1.txt')\n",
    "\n",
    "for r in range(nBanana):\n",
    "    \n",
    "        # read file data to array\n",
    "        img = bananaList.readline()[:-1]\n",
    "        banana = plt.imread('fruits/Training/' + img)\n",
    "        \n",
    "        # convert array to greyscale\n",
    "        graybanana = rgb2gray(banana)\n",
    "        graybanana = graybanana.reshape(10000,1)\n",
    "        \n",
    "        # Add to 2D array\n",
    "        for c in range(10000):\n",
    "            fruits[r][c] = graybanana[c][0]\n",
    "        fruits[r][10000] = 0"
   ]
  },
  {
   "cell_type": "code",
   "execution_count": 100,
   "metadata": {},
   "outputs": [],
   "source": [
    "# Add avacado images to array\n",
    "avocadoList = open('list2.txt')\n",
    "\n",
    "for r in range(nAvocado):\n",
    "    \n",
    "        # read file data to array\n",
    "        img = avocadoList.readline()[:-1]\n",
    "        avocado = plt.imread('fruits/Training/Avocado/' + img)\n",
    "        \n",
    "        # convert array to greyscale\n",
    "        grayavocado = rgb2gray(avocado)\n",
    "        grayavocado = grayavocado.reshape(10000, 1)\n",
    "        \n",
    "        # Add to 2D array\n",
    "        for c in range(10000):\n",
    "            fruits[r+nBanana][c] = grayavocado[c][0]\n",
    "        fruits[r+nBanana][10000] = 1"
   ]
  },
  {
   "cell_type": "code",
   "execution_count": 101,
   "metadata": {},
   "outputs": [],
   "source": [
    "# Add pomegranate images to array\n",
    "pomegranateList = open('list3.txt')\n",
    "\n",
    "for r in range(nPom):\n",
    "    \n",
    "        # read file data to array\n",
    "        img = pomegranateList.readline()[:-1]\n",
    "        pomegranate = plt.imread('fruits/Training/Pomegranate/' + img)\n",
    "        \n",
    "        # convert array to greyscale\n",
    "        graypomegranate = rgb2gray(pomegranate)\n",
    "        graypomegranate = graypomegranate.reshape(10000,1)\n",
    "        \n",
    "        # Add to 2D array\n",
    "        for c in range(10000):\n",
    "            fruits[r+nBanana+nAvocado][c] = graypomegranate[c][0]\n",
    "        fruits[r+nBanana+nAvocado][10000] = 2"
   ]
  },
  {
   "cell_type": "code",
   "execution_count": 102,
   "metadata": {},
   "outputs": [],
   "source": [
    "# Add lemon images to array\n",
    "lemonList = open('list4.txt')\n",
    "\n",
    "for r in range(nLemon):\n",
    "    \n",
    "        # read file data to array\n",
    "        img = lemonList.readline()[:-1]\n",
    "        lemon = plt.imread('fruits/Training/Lemon/' + img)\n",
    "        \n",
    "        # convert array to greyscale\n",
    "        graylemon = rgb2gray(lemon)\n",
    "        graylemon = graylemon.reshape(10000,1)\n",
    "        \n",
    "        # Add to 2D array\n",
    "        for c in range(10000):\n",
    "            fruits[r+nBanana+nAvocado+nPom][c] = graylemon[c][0]\n",
    "        fruits[r+nBanana+nAvocado+nPom][10000] = 3"
   ]
  },
  {
   "cell_type": "code",
   "execution_count": 103,
   "metadata": {},
   "outputs": [],
   "source": [
    "# Add strawberry images to array\n",
    "strawberryList = open('list5.txt')\n",
    "\n",
    "for r in range(nStrawberry):\n",
    "    \n",
    "        # read file data to array\n",
    "        img = strawberryList.readline()[:-1]\n",
    "        strawberry = plt.imread('fruits/Training/Strawberry/' + img)\n",
    "        \n",
    "        # convert array to greyscale\n",
    "        graystrawberry = rgb2gray(strawberry)\n",
    "        graystrawberry = graystrawberry.reshape(10000,1)\n",
    "\n",
    "        # Add to 2D array\n",
    "        for c in range(10000):\n",
    "            fruits[r+nBanana+nAvocado+nPom+nLemon][c] = graystrawberry[c][0]\n",
    "        fruits[r+nBanana+nAvocado+nPom+nLemon][10000] = 4"
   ]
  },
  {
   "cell_type": "code",
   "execution_count": 104,
   "metadata": {},
   "outputs": [],
   "source": [
    "# Add orange images to array\n",
    "orangeList = open('list6.txt')\n",
    "\n",
    "for r in range(nOrange):\n",
    "    \n",
    "        # read file data to array\n",
    "        img = orangeList.readline()[:-1]\n",
    "        orange = plt.imread('fruits/Training/Orange/' + img)\n",
    "        \n",
    "        # convert array to greyscale\n",
    "        grayorange = rgb2gray(orange)\n",
    "        grayorange = grayorange.reshape(10000,1)\n",
    "        \n",
    "        # Add to 2D array\n",
    "        for c in range(10000):\n",
    "            fruits[r+nBanana+nAvocado+nPom+nLemon+nStrawberry][c] = grayorange[c][0]\n",
    "        fruits[r+nBanana+nAvocado+nPom+nLemon+nStrawberry][10000] = 5"
   ]
  },
  {
   "cell_type": "code",
   "execution_count": 106,
   "metadata": {},
   "outputs": [
    {
     "name": "stdout",
     "output_type": "stream",
     "text": [
      "\n"
     ]
    }
   ],
   "source": [
    "print() # End of data preprocessing"
   ]
  },
  {
   "cell_type": "code",
   "execution_count": 38,
   "metadata": {},
   "outputs": [
    {
     "name": "stdout",
     "output_type": "stream",
     "text": [
      "SVC train R^2 score = 1.0\n",
      "SVC test  R^2 score = 1.0\n",
      "             precision    recall  f1-score   support\n",
      "\n",
      "pomegranate       1.00      1.00      1.00       120\n",
      "      lemon       1.00      1.00      1.00       118\n",
      "    avocado       1.00      1.00      1.00       123\n",
      " strawberry       1.00      1.00      1.00       107\n",
      "     banana       1.00      1.00      1.00       116\n",
      "     orange       1.00      1.00      1.00       134\n",
      "\n",
      "avg / total       1.00      1.00      1.00       718\n",
      "\n"
     ]
    }
   ],
   "source": [
    "# SVM analysis\n",
    "\n",
    "from sklearn.metrics import classification_report\n",
    "\n",
    "Xfruits = fruits[:, 0:10000]\n",
    "Yfruits = fruits[:, 10000]\n",
    "\n",
    "# train test split\n",
    "from sklearn.cross_validation import train_test_split\n",
    "Xtrain, Xtest, Ytrain, Ytest = train_test_split(Xfruits, Yfruits, random_state=0)\n",
    "\n",
    "from sklearn.svm import SVC\n",
    "\n",
    "model2 = SVC(kernel='linear', C=1, gamma=1)\n",
    "\n",
    "# train\n",
    "model2.fit(Xtrain, ytrain)\n",
    "\n",
    "Yhat_train = model2.predict(Xtrain)\n",
    "Yhat_test = model2.predict(Xtest)\n",
    "\n",
    "# analyze\n",
    "print('SVC train R^2 score =', model2.score(Xtrain, Yhat_train))\n",
    "print('SVC test  R^2 score =', model2.score(Xtest, Ytest))\n",
    "\n",
    "report2test = classification_report(Ytest, Yhat_test, target_names={'banana','avocado','pomegranate','lemon','strawberry','orange'})\n",
    "print(report2test)"
   ]
  },
  {
   "cell_type": "code",
   "execution_count": 50,
   "metadata": {},
   "outputs": [
    {
     "name": "stdout",
     "output_type": "stream",
     "text": [
      "Bayes train R^2 score = 0.9935004642525533\n",
      "Bayes test  R^2 score = 0.9874651810584958\n",
      "             precision    recall  f1-score   support\n",
      "\n",
      "pomegranate       0.99      1.00      1.00       120\n",
      "      lemon       1.00      0.95      0.97       118\n",
      "    avocado       0.94      1.00      0.97       123\n",
      " strawberry       1.00      0.99      1.00       107\n",
      "     banana       1.00      1.00      1.00       116\n",
      "     orange       1.00      0.99      0.99       134\n",
      "\n",
      "avg / total       0.99      0.99      0.99       718\n",
      "\n"
     ]
    }
   ],
   "source": [
    "# Gaussian Naive Bayes analysis\n",
    "\n",
    "from sklearn.naive_bayes import GaussianNB\n",
    "model = GaussianNB()\n",
    "model.fit(Xtrain, ytrain)\n",
    "\n",
    "Yhat_train = model.predict(Xtrain)\n",
    "Yhat_test = model.predict(Xtest)\n",
    "\n",
    "print('Bayes train R^2 score =', model.score(Xtrain, ytrain))\n",
    "print('Bayes test  R^2 score =', model.score(Xtest, ytest))\n",
    "\n",
    "report2test = classification_report(Ytest, Yhat_test, target_names={'banana','avocado','pomegranate','lemon','strawberry','orange'})\n",
    "print(report2test)"
   ]
  },
  {
   "cell_type": "code",
   "execution_count": 51,
   "metadata": {},
   "outputs": [
    {
     "name": "stdout",
     "output_type": "stream",
     "text": [
      "Accuracy Score: 0.149025069637883\n"
     ]
    }
   ],
   "source": [
    "# Neural Network analysis\n",
    "\n",
    "from sklearn.neural_network import MLPClassifier\n",
    "from sklearn.metrics import accuracy_score\n",
    "\n",
    "mlp = MLPClassifier(solver='lbfgs', alpha=1e-5, hidden_layer_sizes=(5, 2))\n",
    "mlp.fit(Xtrain, ytrain)\n",
    "y_mlp = mlp.predict(Xtest)  # predict on new data\n",
    "print('Accuracy Score:', accuracy_score(ytest, y_mlp))"
   ]
  },
  {
   "cell_type": "code",
   "execution_count": 52,
   "metadata": {},
   "outputs": [
    {
     "data": {
      "text/plain": [
       "array([0.98337559, 0.9833756 , 0.98337563, 0.9833759 , 0.98337865,\n",
       "       0.98340521, 0.98360932, 0.98424056, 0.9831563 ])"
      ]
     },
     "execution_count": 52,
     "metadata": {},
     "output_type": "execute_result"
    }
   ],
   "source": [
    "# Grid Search analysis\n",
    "\n",
    "Xfruits = fruits[:, 0:10000]\n",
    "Yfruits = fruits[:, 10000]\n",
    "\n",
    "# train test split\n",
    "Xtrain, Xtest, Ytrain, Ytest = train_test_split(Xfruits, Yfruits, random_state=0)\n",
    "\n",
    "\n",
    "from sklearn.linear_model import Ridge\n",
    "from sklearn.model_selection import GridSearchCV\n",
    "\n",
    "\n",
    "params = [ {'alpha': [0.001, 0.1, 1, 10, 100,1000, 10000, 100000, 1000000]} ]\n",
    "rm = Ridge()\n",
    "grid = GridSearchCV(rm, params, cv=4)  # cv: # of folds\n",
    "\n",
    "grid.fit(Xtrain, Ytrain)\n",
    "\n",
    "grid.best_estimator_\n",
    "scores = grid.cv_results_\n",
    "scores['mean_test_score'] "
   ]
  },
  {
   "cell_type": "code",
   "execution_count": 53,
   "metadata": {},
   "outputs": [
    {
     "name": "stdout",
     "output_type": "stream",
     "text": [
      "scoreTrain=  1.0\n",
      "scoreTest=  0.9888579387186629\n"
     ]
    }
   ],
   "source": [
    "#Decision Tree analysis\n",
    "\n",
    "Xfruits = fruits[:, 0:10000]\n",
    "Yfruits = fruits[:, 10000]\n",
    "\n",
    "# train test split\n",
    "Xtrain, Xtest, Ytrain, Ytest = train_test_split(Xfruits, Yfruits, random_state=0)\n",
    "\n",
    "from sklearn import tree\n",
    "dTree= tree.DecisionTreeClassifier()\n",
    "\n",
    "dTree.fit(Xtrain, Ytrain)\n",
    "scoreTrain = dTree.score(Xtrain, Ytrain)\n",
    "scoreTest = dTree.score(Xtest, Ytest)\n",
    "\n",
    "print('scoreTrain= ', scoreTrain)\n",
    "print('scoreTest= ', scoreTest)"
   ]
  },
  {
   "cell_type": "code",
   "execution_count": 105,
   "metadata": {},
   "outputs": [
    {
     "name": "stdout",
     "output_type": "stream",
     "text": [
      "\n"
     ]
    }
   ],
   "source": [
    "print() # end of testing with kaggle data"
   ]
  },
  {
   "cell_type": "code",
   "execution_count": 66,
   "metadata": {},
   "outputs": [],
   "source": [
    "n = 15\n",
    "nCols = 10000 + 1\n",
    "realBans = np.zeros((n, nCols))\n",
    "\n",
    "banList = open('real1.txt')\n",
    "    \n",
    "ban = plt.imread('realBananaTest/ban1.jpg') \n",
    "ban = ban[:100,:100]\n",
    "        \n",
    "grayban = rgb2gray(ban)\n",
    "grayban = grayban.reshape(10000, 1)\n",
    "        \n",
    "for c in range(10000):\n",
    "    realBans[0][c] = grayban[c][0]\n",
    "realBans[0][10000] = 0\n",
    "\n",
    "#-----               \n",
    "\n",
    "ban = plt.imread('realBananaTest/ban2.jpg') \n",
    "ban = ban[:100,:100]\n",
    "\n",
    "grayban = rgb2gray(ban)\n",
    "grayban = grayban.reshape(10000, 1)\n",
    "\n",
    "for c in range(10000):\n",
    "    realBans[1][c] = grayban[c][0]\n",
    "realBans[1][10000] = 0\n",
    "        \n",
    "#-----               \n",
    "                         \n",
    "ban = plt.imread('realBananaTest/ban3.jpg') \n",
    "ban = ban[:100,:100]\n",
    "        \n",
    "grayban = rgb2gray(ban)\n",
    "grayban = grayban.reshape(10000, 1)\n",
    "        \n",
    "for c in range(10000):\n",
    "    realBans[2][c] = grayban[c][0]\n",
    "realBans[2][10000] = 0\n",
    "        \n",
    "#-----               \n",
    "                         \n",
    "ban = plt.imread('realBananaTest/ban4.jpg') \n",
    "ban = ban[:100,:100]\n",
    "        \n",
    "grayban = rgb2gray(ban)\n",
    "grayban = grayban.reshape(10000, 1)\n",
    "        \n",
    "for c in range(10000):\n",
    "    realBans[3][c] = grayban[c][0]\n",
    "realBans[3][10000] = 0\n",
    "        \n",
    "#-----               \n",
    "                         \n",
    "ban = plt.imread('realBananaTest/ban5.jpg') \n",
    "ban = ban[:100,:100]\n",
    "        \n",
    "grayban = rgb2gray(ban)\n",
    "grayban = grayban.reshape(10000, 1)\n",
    "        \n",
    "for c in range(10000):\n",
    "    realBans[4][c] = grayban[c][0]\n",
    "realBans[4][10000] = 0\n",
    "\n",
    "#-----               \n",
    "                         \n",
    "ban = plt.imread('realBananaTest/ban6.jpg') \n",
    "ban = ban[:100,:100]\n",
    "        \n",
    "grayban = rgb2gray(ban)\n",
    "grayban = grayban.reshape(10000, 1)\n",
    "        \n",
    "for c in range(10000):\n",
    "    realBans[4][c] = grayban[c][0]\n",
    "realBans[4][10000] = 0\n",
    "\n",
    "#-----               \n",
    "                         \n",
    "ban = plt.imread('realBananaTest/ban7.jpg') \n",
    "ban = ban[:100,:100]\n",
    "        \n",
    "grayban = rgb2gray(ban)\n",
    "grayban = grayban.reshape(10000, 1)\n",
    "        \n",
    "for c in range(10000):\n",
    "    realBans[4][c] = grayban[c][0]\n",
    "realBans[4][10000] = 0\n",
    "\n",
    "#-----               \n",
    "                         \n",
    "ban = plt.imread('realBananaTest/ban8.jpg') \n",
    "ban = ban[:100,:100]\n",
    "        \n",
    "grayban = rgb2gray(ban)\n",
    "grayban = grayban.reshape(10000, 1)\n",
    "        \n",
    "for c in range(10000):\n",
    "    realBans[4][c] = grayban[c][0]\n",
    "realBans[4][10000] = 0\n",
    "\n",
    "#-----               \n",
    "                         \n",
    "ban = plt.imread('realBananaTest/ban9.jpg') \n",
    "ban = ban[:100,:100]\n",
    "        \n",
    "grayban = rgb2gray(ban)\n",
    "grayban = grayban.reshape(10000, 1)\n",
    "        \n",
    "for c in range(10000):\n",
    "    realBans[4][c] = grayban[c][0]\n",
    "realBans[4][10000] = 0\n",
    "\n",
    "#-----               \n",
    "                         \n",
    "ban = plt.imread('realBananaTest/ban10.jpg') \n",
    "ban = ban[:100,:100]\n",
    "        \n",
    "grayban = rgb2gray(ban)\n",
    "grayban = grayban.reshape(10000, 1)\n",
    "        \n",
    "for c in range(10000):\n",
    "    realBans[4][c] = grayban[c][0]\n",
    "realBans[4][10000] = 0\n",
    "\n",
    "#-----               \n",
    "                         \n",
    "ban = plt.imread('realBananaTest/ban11.jpg') \n",
    "ban = ban[:100,:100]\n",
    "        \n",
    "grayban = rgb2gray(ban)\n",
    "grayban = grayban.reshape(10000, 1)\n",
    "        \n",
    "for c in range(10000):\n",
    "    realBans[4][c] = grayban[c][0]\n",
    "realBans[4][10000] = 0\n",
    "\n",
    "#-----               \n",
    "                         \n",
    "ban = plt.imread('realBananaTest/ban12.jpg') \n",
    "ban = ban[:100,:100]\n",
    "        \n",
    "grayban = rgb2gray(ban)\n",
    "grayban = grayban.reshape(10000, 1)\n",
    "        \n",
    "for c in range(10000):\n",
    "    realBans[4][c] = grayban[c][0]\n",
    "realBans[4][10000] = 0\n",
    "\n",
    "#-----               \n",
    "                         \n",
    "ban = plt.imread('realBananaTest/ban13.jpg') \n",
    "ban = ban[:100,:100]\n",
    "        \n",
    "grayban = rgb2gray(ban)\n",
    "grayban = grayban.reshape(10000, 1)\n",
    "        \n",
    "for c in range(10000):\n",
    "    realBans[4][c] = grayban[c][0]\n",
    "realBans[4][10000] = 0\n",
    "\n",
    "#-----               \n",
    "                         \n",
    "ban = plt.imread('realBananaTest/ban14.jpg') \n",
    "ban = ban[:100,:100]\n",
    "        \n",
    "grayban = rgb2gray(ban)\n",
    "grayban = grayban.reshape(10000, 1)\n",
    "        \n",
    "for c in range(10000):\n",
    "    realBans[4][c] = grayban[c][0]\n",
    "realBans[4][10000] = 0\n",
    "\n",
    "#-----               \n",
    "                         \n",
    "ban = plt.imread('realBananaTest/ban15.jpg') \n",
    "ban = ban[:100,:100]\n",
    "        \n",
    "grayban = rgb2gray(ban)\n",
    "grayban = grayban.reshape(10000, 1)\n",
    "        \n",
    "for c in range(10000):\n",
    "    realBans[4][c] = grayban[c][0]\n",
    "realBans[4][10000] = 0"
   ]
  },
  {
   "cell_type": "code",
   "execution_count": 68,
   "metadata": {},
   "outputs": [
    {
     "data": {
      "text/plain": [
       "(15, 10001)"
      ]
     },
     "execution_count": 68,
     "metadata": {},
     "output_type": "execute_result"
    }
   ],
   "source": [
    "realBans.shape"
   ]
  },
  {
   "cell_type": "code",
   "execution_count": 107,
   "metadata": {},
   "outputs": [
    {
     "name": "stdout",
     "output_type": "stream",
     "text": [
      "\n"
     ]
    }
   ],
   "source": [
    "print() # End of preprocessing"
   ]
  },
  {
   "cell_type": "code",
   "execution_count": 73,
   "metadata": {},
   "outputs": [
    {
     "name": "stdout",
     "output_type": "stream",
     "text": [
      "scoreTrain=  1.0\n",
      "scoreTest=  0.06666666666666667\n",
      "             precision    recall  f1-score   support\n",
      "\n",
      "pomegranate       0.14      0.15      0.14       114\n",
      "      lemon       0.13      0.15      0.14        98\n",
      "    avocado       0.12      0.14      0.13       112\n",
      " strawberry       0.18      0.15      0.16       129\n",
      "     banana       0.13      0.11      0.12       137\n",
      "     orange       0.23      0.23      0.23       128\n",
      "\n",
      "avg / total       0.16      0.16      0.16       718\n",
      "\n"
     ]
    }
   ],
   "source": [
    "#Decision Tree analysis with realBans\n",
    "\n",
    "Xbans = realBans[:, 0:10000]\n",
    "Ybans = realBans[:, 10000]\n",
    "Xfruits = fruits[:, 0:10000]\n",
    "Yfruits = fruits[:, 10000]\n",
    "\n",
    "# train test split\n",
    "Xtrain, Xtest, Ytrain, Ytest = train_test_split(Xfruits, Yfruits)\n",
    "\n",
    "from sklearn import tree\n",
    "dTree= tree.DecisionTreeClassifier()\n",
    "\n",
    "dTree.fit(Xtrain, Ytrain)\n",
    "scoreTrain = dTree.score(Xtrain, Ytrain)\n",
    "scoreTest = dTree.score(Xbans, Ybans)\n",
    "\n",
    "print('scoreTrain= ', scoreTrain)\n",
    "print('scoreTest= ', scoreTest)\n",
    "\n",
    "report2test = classification_report(Ytest, Yhat_test, target_names={'banana','avocado','pomegranate','lemon','strawberry','orange'})\n",
    "print(report2test)"
   ]
  },
  {
   "cell_type": "code",
   "execution_count": 92,
   "metadata": {},
   "outputs": [],
   "source": [
    "# Gaussian analysis wth realBans\n",
    "\n",
    "from sklearn.naive_bayes import GaussianNB \n",
    "Xfruits = fruits[:, 0:10000]\n",
    "Yfruits = fruits[:, 10000]\n",
    "Xbans = realBans[:, 0:10000] # - Xtest\n",
    "Ybans = realBans[:, 10000] # - Ytest\n",
    "\n",
    "Xtrain, Xtest, Ytrain, Ytest = train_test_split(Xfruits, Yfruits)\n",
    "\n",
    "model = GaussianNB()\n",
    "model.fit(Xtrain, ytrain)\n",
    "y_model = model.predict(Xbans)"
   ]
  },
  {
   "cell_type": "code",
   "execution_count": 93,
   "metadata": {},
   "outputs": [
    {
     "name": "stdout",
     "output_type": "stream",
     "text": [
      "Bayes train R^2 score = 0.19498607242339833\n",
      "Bayes test  R^2 score = 0.8\n"
     ]
    }
   ],
   "source": [
    "Yhat_train = model.predict(Xtrain)\n",
    "Yhat_test = model.predict(Xbans)\n",
    "\n",
    "print('Bayes train R^2 score =', model.score(Xtrain, Ytrain))\n",
    "print('Bayes test  R^2 score =', model.score(Xbans, Ybans))"
   ]
  },
  {
   "cell_type": "code",
   "execution_count": 95,
   "metadata": {},
   "outputs": [
    {
     "data": {
      "text/plain": [
       "0.0"
      ]
     },
     "execution_count": 95,
     "metadata": {},
     "output_type": "execute_result"
    }
   ],
   "source": [
    "# Grid Search analysis with realBans\n",
    "\n",
    "Xfruits = fruits[:, 0:10000]\n",
    "Yfruits = fruits[:, 10000]\n",
    "Xbans = realBans[:, 0:10000] # - Xtest\n",
    "Ybans = realBans[:, 10000] # - Ytest\n",
    "\n",
    "# train test split\n",
    "Xtrain, Xtest, Ytrain, Ytest = train_test_split(Xfruits, Yfruits)\n",
    "\n",
    "\n",
    "from sklearn.linear_model import Ridge\n",
    "from sklearn.model_selection import GridSearchCV\n",
    "\n",
    "\n",
    "params = [ {'alpha': [0.001, 0.1, 1, 10, 100,1000, 10000, 100000, 1000000]} ]\n",
    "rm = Ridge()\n",
    "grid = GridSearchCV(rm, params, cv=4)  # cv: # of folds\n",
    "\n",
    "grid.fit(Xtrain, Ytrain)\n",
    "\n",
    "grid.best_estimator_\n",
    "scores = grid.cv_results_\n",
    "scores['mean_test_score'] \n",
    "\n",
    "grid.score(Xbans, Ybans)"
   ]
  },
  {
   "cell_type": "code",
   "execution_count": 96,
   "metadata": {},
   "outputs": [
    {
     "name": "stdout",
     "output_type": "stream",
     "text": [
      "SVC train R^2 score = 1.0\n",
      "SVC test  R^2 score = 0.06666666666666667\n",
      "             precision    recall  f1-score   support\n",
      "\n",
      "pomegranate       1.00      1.00      1.00       120\n",
      "      lemon       1.00      1.00      1.00       118\n",
      "    avocado       1.00      1.00      1.00       123\n",
      " strawberry       1.00      1.00      1.00       107\n",
      "     banana       1.00      1.00      1.00       116\n",
      "     orange       1.00      1.00      1.00       134\n",
      "\n",
      "avg / total       1.00      1.00      1.00       718\n",
      "\n"
     ]
    }
   ],
   "source": [
    "# SVM analysis with realBans\n",
    "\n",
    "from sklearn.metrics import classification_report\n",
    "\n",
    "Xfruits = fruits[:, 0:10000]\n",
    "Yfruits = fruits[:, 10000]\n",
    "Xbans = realBans[:, 0:10000] # - Xtest\n",
    "Ybans = realBans[:, 10000] # - Ytest\n",
    "\n",
    "# train test split\n",
    "from sklearn.cross_validation import train_test_split\n",
    "Xtrain, Xtest, Ytrain, Ytest = train_test_split(Xfruits, Yfruits, random_state=0)\n",
    "\n",
    "from sklearn.svm import SVC\n",
    "\n",
    "model2 = SVC(kernel='linear', C=1, gamma=1)\n",
    "\n",
    "# train\n",
    "model2.fit(Xtrain, ytrain)\n",
    "\n",
    "Yhat_train = model2.predict(Xtrain)\n",
    "Yhat_test = model2.predict(Xtest)\n",
    "\n",
    "# analyze\n",
    "print('SVC train R^2 score =', model2.score(Xtrain, Yhat_train))\n",
    "print('SVC test  R^2 score =', model2.score(Xbans, Ybans))\n",
    "\n",
    "report2test = classification_report(Ytest, Yhat_test, target_names={'banana','avocado','pomegranate','lemon','strawberry','orange'})\n",
    "print(report2test)"
   ]
  },
  {
   "cell_type": "code",
   "execution_count": 97,
   "metadata": {},
   "outputs": [
    {
     "name": "stdout",
     "output_type": "stream",
     "text": [
      "Accuracy Score: 0.0\n"
     ]
    }
   ],
   "source": [
    "# Neural Network analysis with realBans\n",
    "\n",
    "from sklearn.neural_network import MLPClassifier\n",
    "from sklearn.metrics import accuracy_score\n",
    "\n",
    "Xfruits = fruits[:, 0:10000]\n",
    "Yfruits = fruits[:, 10000]\n",
    "Xbans = realBans[:, 0:10000] # - Xtest\n",
    "Ybans = realBans[:, 10000] # - Ytest\n",
    "\n",
    "mlp = MLPClassifier(solver='lbfgs', alpha=1e-5, hidden_layer_sizes=(5, 2))\n",
    "mlp.fit(Xtrain, Ytrain)\n",
    "y_mlp = mlp.predict(Xbans)  # predict on new data\n",
    "print('Accuracy Score:', accuracy_score(Ybans, y_mlp))"
   ]
  },
  {
   "cell_type": "code",
   "execution_count": null,
   "metadata": {},
   "outputs": [],
   "source": []
  }
 ],
 "metadata": {
  "kernelspec": {
   "display_name": "Python 3",
   "language": "python",
   "name": "python3"
  },
  "language_info": {
   "codemirror_mode": {
    "name": "ipython",
    "version": 3
   },
   "file_extension": ".py",
   "mimetype": "text/x-python",
   "name": "python",
   "nbconvert_exporter": "python",
   "pygments_lexer": "ipython3",
   "version": "3.6.5"
  }
 },
 "nbformat": 4,
 "nbformat_minor": 2
}
